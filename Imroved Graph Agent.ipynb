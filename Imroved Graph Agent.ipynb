{
 "cells": [
  {
   "cell_type": "code",
   "execution_count": null,
   "metadata": {
    "collapsed": true,
    "id": "5aa3yQkG1e0u"
   },
   "outputs": [],
   "source": [
    "!pip install neo4j-graphrag"
   ]
  },
  {
   "cell_type": "code",
   "execution_count": null,
   "metadata": {
    "collapsed": true,
    "id": "NuKTsKN6LVqt"
   },
   "outputs": [],
   "source": [
    "!pip install langchain langchain-groq langchain-core langchain-community neo4j\n",
    "!pip install streamlit\n",
    "!pip install pyngrok\n"
   ]
  },
  {
   "cell_type": "code",
   "execution_count": null,
   "metadata": {
    "id": "S_jWnW7VufZY"
   },
   "outputs": [],
   "source": [
    "import pandas as pd\n",
    "import json\n",
    "import os\n",
    "from dotenv import load_dotenv\n",
    "from langchain_community.graphs import Neo4jGraph\n",
    "from langchain.chains import GraphCypherQAChain\n",
    "from langchain_core.prompts import FewShotPromptTemplate, PromptTemplate\n",
    "load_dotenv()"
   ]
  },
  {
   "cell_type": "code",
   "execution_count": null,
   "metadata": {
    "id": "0PY0yhMWAcLa"
   },
   "outputs": [],
   "source": [
    "\"\"\"The example leverages the Text2CypherRetriever to fetch some context.\n",
    "It uses the OpenAILLM, hence the OPENAI_API_KEY needs to be set in the\n",
    "environment for this example to run.\n",
    "\"\"\"\n",
    "\n",
    "import neo4j\n",
    "#from neo4j_graphrag.llm import OpenAILLM # This is not used and can be removed\n",
    "from neo4j_graphrag.retrievers import Text2CypherRetriever\n",
    "\n",
    "\n",
    "# Define database credentials\n",
    "URI = \"neo4j+s://1335f3b1.databases.neo4j.io\"  # Removed trailing comma\n",
    "# AUTH should be a tuple of (username, password)\n",
    "AUTH = (\"neo4j\", \"o72Bks0bw34x0rRFvwKHKs82KZoA_JuJn-jjYqR5QII\")  # Corrected AUTH to be a tuple\n",
    "DATABASE = \"neo4j\"\n",
    "\n",
    "# Set your Groq API key as an environment variable\n",
    "os.environ[\"GROQ_API_KEY\"] = \"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\"  # Replace with your actual API key\n",
    "\n",
    "# Initialize ChatGroq model (using Llama3-8B model)\n",
    "from langchain_groq import ChatGroq\n",
    "\n",
    "llm = ChatGroq(\n",
    "    model=\"gemma2-9b-it\",\n",
    "    temperature=0,\n",
    "    max_tokens=None,\n",
    "    timeout=None,\n",
    "    # other params...\n",
    ")\n",
    "\n",
    "# Set up Neo4j Graph connection\n",
    "graph = Neo4jGraph(\n",
    "    url=\"neo4j+s://1335f3b1.databases.neo4j.io\",\n",
    "    username=\"neo4j\",\n",
    "    password=\"o72Bks0bw34x0rRFvwKHKs82KZoA_JuJn-jjYqR5QII\"\n",
    ")\n",
    "\n",
    "\n",
    "# (Optional) Specify your own Neo4j schema\n",
    "neo4j_schema = \"\"\"\n",
    "Node properties :\n",
    "Wall {wall_id: INTEGER, name: STRING, id: INTEGER},Material {name: STRING, density: FLOAT, conductivity: FLOAT, u_value: FLOAT, embodied_carbon_coefficient: FLOAT, cost: FLOAT, recyclability: INTEGER, bio_based: BOOLEAN, color: STRING},Metric {name: STRING, value: FLOAT}\n",
    "Relationship properties :\n",
    "USED_IN {thickness: FLOAT},HAS_METRIC {value: FLOAT}\n",
    "The relationships :\n",
    "(:Wall)-[:HAS_METRIC]->(:Metric),(:Material)-[:USED_IN]->(:Wall)\n",
    "\"\"\""
   ]
  },
  {
   "cell_type": "code",
   "execution_count": null,
   "metadata": {
    "colab": {
     "base_uri": "https://localhost:8080/"
    },
    "id": "WqRngUPnedcl",
    "outputId": "b490dfb0-b64d-4f0a-d866-bed83335dcfa"
   },
   "outputs": [
    {
     "name": "stdout",
     "output_type": "stream",
     "text": [
      "Node properties:\n",
      "Wall {wall_id: INTEGER, name: STRING, id: INTEGER}\n",
      "Material {name: STRING, density: FLOAT, conductivity: FLOAT, u_value: FLOAT, embodied_carbon_coefficient: FLOAT, cost: FLOAT, recyclability: INTEGER, bio_based: BOOLEAN, color: STRING}\n",
      "Metric {name: STRING, value: FLOAT}\n",
      "Session {id: STRING}\n",
      "Message {type: STRING, content: STRING}\n",
      "Relationship properties:\n",
      "USED_IN {thickness: FLOAT}\n",
      "HAS_METRIC {value: FLOAT}\n",
      "The relationships:\n",
      "(:Wall)-[:HAS_METRIC]->(:Metric)\n",
      "(:Material)-[:USED_IN]->(:Wall)\n",
      "(:Session)-[:LAST_MESSAGE]->(:Message)\n",
      "(:Message)-[:NEXT]->(:Message)\n"
     ]
    }
   ],
   "source": [
    "graph.refresh_schema()\n",
    "print(graph.schema)"
   ]
  },
  {
   "cell_type": "code",
   "execution_count": null,
   "metadata": {
    "id": "-_m_9gqgduh7"
   },
   "outputs": [],
   "source": [
    "\n",
    "examples = [ # assign the list of examples to the variable 'examples'\n",
    "    {\n",
    "        \"question\": \"Find walls that have bio-based materials and their overall score?\",\n",
    "        \"query\": \"MATCH (w:Wall)<-[:USED_IN]-(m:Material) WHERE m.bio_based = true MATCH (w)-[:HAS_METRIC]->(metric:Metric {{name: 'overall_score'}}) WITH w, metric.value AS overall_score, COLLECT(m.name) AS Materials ORDER BY overall_score DESC LIMIT 5 RETURN w.id AS WallID, overall_score, Materials;\"\n",
    "    },\n",
    "    {\n",
    "        \"question\": \"Find walls with recyclability greater than 3 and their overall score?\",\n",
    "        \"query\": \"MATCH (w:Wall)<-[:USED_IN]-(m:Material) WHERE m.recyclability > 3 MATCH (w)-[:HAS_METRIC]->(metric:Metric {{name: 'overall_score'}}) WITH w, metric.value AS overall_score, COLLECT(m.name) AS Materials ORDER BY overall_score DESC LIMIT 5 RETURN w.id AS WallID, overall_score, Materials;\"\n",
    "    },\n",
    "    {\n",
    "        \"question\": \"Find walls composed of exactly 3 materials and their overall score?\",\n",
    "        \"query\": \"MATCH (w:Wall)<-[:USED_IN]-(m:Material) WITH w, COUNT(m) AS material_count WHERE material_count = 3 MATCH (w)-[:HAS_METRIC]->(metric:Metric {{name: 'overall_score'}}) WITH w, metric.value AS overall_score, COLLECT(m.name) AS Materials ORDER BY overall_score DESC LIMIT 5 RETURN w.id AS WallID, overall_score, Materials;\"\n",
    "    },\n",
    "    {\n",
    "        \"question\": \"Find walls with the lowest cost and their overall score?\",\n",
    "        \"query\": \"MATCH (w:Wall)<-[:USED_IN]-(m:Material) WITH w, MIN(m.cost) AS lowest_cost MATCH (w)-[:HAS_METRIC]->(metric:Metric {{name: 'overall_score'}}) WITH w, lowest_cost, metric.value AS overall_score ORDER BY lowest_cost ASC LIMIT 5 RETURN w.id AS WallID, overall_score, lowest_cost;\"\n",
    "    },\n",
    "    {\n",
    "        \"question\": \"Find wooden walls and their overall score (assuming 'wood' is a material name or property)?\",\n",
    "        \"query\": \"MATCH (w:Wall)<-[:USED_IN]-(m:Material) WHERE m.name CONTAINS 'wood' MATCH (w)-[:HAS_METRIC]->(metric:Metric {{name: 'overall_score'}}) WITH w, metric.value AS overall_score, COLLECT(m.name) AS Materials ORDER BY overall_score DESC LIMIT 5 RETURN w.id AS WallID, overall_score, Materials;\"\n",
    "    },\n",
    "    {\n",
    "        \"question\": \"Find walls with the best circularity score and their overall score\",\n",
    "        \"query\": \"MATCH (w:Wall)-[:HAS_METRIC]->(metric:Metric {{name: 'circular_economy'}}) WITH w, metric.value AS circularity_score ORDER BY circularity_score DESC LIMIT 5 MATCH (w)-[:HAS_METRIC]->(overall_metric:Metric {{name: 'overall_score'}}) WITH w, circularity_score, overall_metric.value AS overall_score RETURN w.id AS WallID, overall_score, circularity_score;\"\n",
    "    },\n",
    "    {\n",
    "        \"question\": \"Find walls composed of exactly 3 materials and their overall score?\",\n",
    "        \"query\": \"MATCH (w:Wall)<-[:USED_IN]-(m:Material) WITH w, COUNT(m) AS material_count WHERE material_count = 3 MATCH (w)-[:HAS_METRIC]->(metric:Metric {{name: 'overall_score'}}) WITH w, metric.value AS overall_score, COLLECT(m.name) AS Materials ORDER BY overall_score DESC LIMIT 5 RETURN w.id AS WallID, overall_score, Materials;\"\n",
    "    },\n",
    "    {\n",
    "        \"question\": \"Find walls without any bio-based materials and their overall score?\",\n",
    "        \"query\": \"MATCH (w:Wall)<-[:USED_IN]-(m:Material) WHERE m.bio_based = false MATCH (w)-[:HAS_METRIC]->(metric:Metric {{name: 'overall_score'}}) WITH w, metric.value AS overall_score, COLLECT(m.name) AS Materials ORDER BY overall_score DESC LIMIT 5 RETURN w.id AS WallID, overall_score, Materials;\"\n",
    "    }\n",
    "]\n"
   ]
  },
  {
   "cell_type": "code",
   "execution_count": null,
   "metadata": {
    "id": "pvv_xvkTeiwb"
   },
   "outputs": [],
   "source": [
    "chain2 = GraphCypherQAChain.from_llm(graph=graph, llm=llm, cypher_prompt=prompt, verbose=True, allow_dangerous_requests=True)\n",
    "schema=graph.schema # Set allow_dangerous_requests=True"
   ]
  },
  {
   "cell_type": "code",
   "execution_count": null,
   "metadata": {
    "id": "BZs4zQ4wuUyn"
   },
   "outputs": [],
   "source": [
    "from langchain_core.prompts import PromptTemplate\n",
    "\n",
    "# Define a new prompt specifically for the GraphCypherQAChain\n",
    "cypher_prompt = PromptTemplate(\n",
    "    template=\"\"\"You are a Neo4j expert. Given an input question, create a syntactically correct Cypher query to run.\n",
    "\n",
    "    Here is the schema information:\n",
    "    {schema}\n",
    "\n",
    "    Question: {question}\n",
    "\n",
    "    Cypher Query:\"\"\",\n",
    "    input_variables=[\"schema\", \"question\"],\n",
    ")\n",
    "\n",
    "chain2 = GraphCypherQAChain.from_llm(graph=graph, llm=llm, cypher_prompt=cypher_prompt, verbose=True, allow_dangerous_requests=True)\n",
    "schema=graph.schema # Set allow_dangerous_requests=True"
   ]
  },
  {
   "cell_type": "code",
   "execution_count": null,
   "metadata": {
    "id": "DwpJVtIqfZut"
   },
   "outputs": [],
   "source": [
    "\n",
    "from langchain_core.prompts import FewShotPromptTemplate, PromptTemplate\n",
    "\n",
    "example_prompt = PromptTemplate.from_template(\n",
    "    \"User input: {question}\\nCypher query: {query}\"\n",
    ")\n",
    "prompt = FewShotPromptTemplate(\n",
    "    examples=examples[:3],\n",
    "    example_prompt=example_prompt,\n",
    "    prefix=\"You are a Neo4j expert. Given an input question, create a syntactically correct Cypher query to run.\\n\\nHere is the schema information\\n{schema}.\\n\\nBelow are a number of examples of questions and their corresponding Cypher queries.\",\n",
    "    suffix=\"User input: {question}\\nCypher query: \",\n",
    "    input_variables=[\"question\", \"schema\"],\n",
    ")"
   ]
  },
  {
   "cell_type": "code",
   "execution_count": null,
   "metadata": {
    "colab": {
     "base_uri": "https://localhost:8080/"
    },
    "id": "o7dFFUQz2TFX",
    "outputId": "756a3f48-c644-45ab-ae8e-9a60973bd091"
   },
   "outputs": [
    {
     "name": "stdout",
     "output_type": "stream",
     "text": [
      "====== START ======\n",
      "\n",
      "\n",
      "\u001b[1m> Entering new GraphCypherQAChain chain...\u001b[0m\n",
      "Generated Cypher:\n",
      "\u001b[32;1m\u001b[1;3mcypher\n",
      "MATCH (w:Wall)<-[:USED_IN]-(m:Material) WHERE NOT m.bio_based = true \n",
      "MATCH (w)-[:HAS_METRIC]->(metric:Metric {name: 'overall_score'}) \n",
      "WITH w, metric.value AS overall_score, COLLECT(m.name) AS Materials \n",
      "ORDER BY overall_score DESC LIMIT 5 \n",
      "RETURN w.id AS WallID, overall_score, Materials;\n",
      "\u001b[0m\n",
      "Full Context:\n",
      "\u001b[32;1m\u001b[1;3m[{'WallID': 1, 'overall_score': 40.7, 'Materials': ['Cement plaster', 'Cement plaster', 'Glass Wool (unbonded)', 'Gypsum plaster', 'Foam glass', 'Solid burnt clay brick']}, {'WallID': 2, 'overall_score': 40.7, 'Materials': ['Cement plaster', 'Gypsum plaster', 'Solid burnt clay brick', 'Rock wool (unbonded)']}, {'WallID': 3, 'overall_score': 40.7, 'Materials': ['Cement plaster', 'Rock wool (unbonded)', 'Profiled Clay Tile Panel']}, {'WallID': 4, 'overall_score': 40.7, 'Materials': ['Rock wool (unbonded)', 'Rock wool (unbonded)', 'Profiled Clay Tile Panel']}, {'WallID': 5, 'overall_score': 40.7, 'Materials': ['Gypsum plaster', 'Gypsum plaster']}]\u001b[0m\n",
      "\n",
      "\u001b[1m> Finished chain.\u001b[0m\n",
      "Walls 1, 2, 3, 4, and 5 all use Cement plaster as a material. \n",
      "\n",
      "====== END ====== \n",
      "\n",
      "====== START ======\n",
      "\n",
      "\n",
      "\u001b[1m> Entering new GraphCypherQAChain chain...\u001b[0m\n",
      "Generated Cypher:\n",
      "\u001b[32;1m\u001b[1;3mcypher\n",
      "MATCH (w:Wall)<-[:USED_IN]-(m:Material)\n",
      "WITH w, MIN(m.cost) AS lowest_cost\n",
      "MATCH (w)-[:HAS_METRIC]->(metric:Metric {name: 'overall_score'})\n",
      "WITH w, lowest_cost, metric.value AS overall_score\n",
      "ORDER BY lowest_cost ASC\n",
      "LIMIT 5\n",
      "RETURN w.id AS WallID, overall_score, lowest_cost;\n",
      "\u001b[0m\n",
      "Full Context:\n",
      "\u001b[32;1m\u001b[1;3m[{'WallID': 6, 'overall_score': 40.7, 'lowest_cost': 5.01}, {'WallID': 14, 'overall_score': 40.7, 'lowest_cost': 5.01}, {'WallID': 16, 'overall_score': 40.7, 'lowest_cost': 5.01}, {'WallID': 20, 'overall_score': 40.7, 'lowest_cost': 5.01}, {'WallID': 27, 'overall_score': 40.7, 'lowest_cost': 5.01}]\u001b[0m\n",
      "\n",
      "\u001b[1m> Finished chain.\u001b[0m\n",
      "WallIDs 6, 14, 16, 20, and 27 all have an overall score of 40.7 and a lowest cost of 5.01. \n",
      "\n",
      "====== END ====== \n",
      "\n"
     ]
    }
   ],
   "source": [
    "from langchain_core.prompts import FewShotPromptTemplate, PromptTemplate\n",
    "\n",
    "example_prompt = PromptTemplate.from_template(\n",
    "    \"User input: {question}\\nCypher query: {query}\"\n",
    ")\n",
    "prompt = FewShotPromptTemplate(\n",
    "    examples=examples,\n",
    "    example_prompt=example_prompt,\n",
    "    prefix=\"You are a Neo4j expert. Given an input question, create a syntactically correct Cypher query to run.\\n\\nHere is the schema information\\n{schema}.\\n\\nBelow are a number of examples of questions and their corresponding Cypher queries.\",\n",
    "    suffix=\"User input: {question}\\nCypher query: \",\n",
    "    input_variables=[\"question\", \"schema\"],\n",
    ")\n",
    "\n",
    "chain2 = GraphCypherQAChain.from_llm(graph=graph, llm=llm, cypher_prompt=prompt, verbose=True, allow_dangerous_requests=True)\n",
    "schema=graph.schema # Set allow_dangerous_requests=True\n",
    "\n",
    "questions = [\"Find walls without any bio-based materials and their overall score?\",\n",
    "             \"Find walls with the lowest cost and their overall score?\"]\n",
    "for q in questions:\n",
    "    print('====== START ======')\n",
    "    # Modify the invoke call to include schema and a placeholder for the query\n",
    "    result = chain2.invoke({\"question\": q, \"schema\": schema, \"query\": \"\"})['result']  # Add \"query\": \"\"\n",
    "    print(result)\n",
    "    print('====== END ====== \\n')"
   ]
  },
  {
   "cell_type": "code",
   "execution_count": null,
   "metadata": {
    "colab": {
     "base_uri": "https://localhost:8080/"
    },
    "collapsed": true,
    "id": "gIClCpm0gPzq",
    "outputId": "d67d0c3b-29b0-4559-fd1c-428b214a7052"
   },
   "outputs": [
    {
     "name": "stdout",
     "output_type": "stream",
     "text": [
      "You are a Neo4j expert. Given an input question, create a syntactically correct Cypher query to run.\n",
      "\n",
      "Here is the schema information\n",
      "Node properties:\n",
      "Wall {wall_id: INTEGER, name: STRING, id: INTEGER}\n",
      "Material {name: STRING, density: FLOAT, conductivity: FLOAT, u_value: FLOAT, embodied_carbon_coefficient: FLOAT, cost: FLOAT, recyclability: INTEGER, bio_based: BOOLEAN, color: STRING}\n",
      "Metric {name: STRING, value: FLOAT}\n",
      "Session {id: STRING}\n",
      "Message {type: STRING, content: STRING}\n",
      "Relationship properties:\n",
      "USED_IN {thickness: FLOAT}\n",
      "HAS_METRIC {value: FLOAT}\n",
      "The relationships:\n",
      "(:Wall)-[:HAS_METRIC]->(:Metric)\n",
      "(:Material)-[:USED_IN]->(:Wall)\n",
      "(:Session)-[:LAST_MESSAGE]->(:Message)\n",
      "(:Message)-[:NEXT]->(:Message).\n",
      "\n",
      "Below are a number of examples of questions and their corresponding Cypher queries.\n",
      "\n",
      "User input: Find walls that have bio-based materials and their overall score?\n",
      "Cypher query: MATCH (w:Wall)<-[:USED_IN]-(m:Material) WHERE m.bio_based = true MATCH (w)-[:HAS_METRIC]->(metric:Metric {name: 'overall_score'}) WITH w, metric.value AS overall_score, COLLECT(m.name) AS Materials ORDER BY overall_score DESC LIMIT 5 RETURN w.id AS WallID, overall_score, Materials;\n",
      "\n",
      "User input: Find walls with recyclability greater than 3 and their overall score?\n",
      "Cypher query: MATCH (w:Wall)<-[:USED_IN]-(m:Material) WHERE m.recyclability > 3 MATCH (w)-[:HAS_METRIC]->(metric:Metric {name: 'overall_score'}) WITH w, metric.value AS overall_score, COLLECT(m.name) AS Materials ORDER BY overall_score DESC LIMIT 5 RETURN w.id AS WallID, overall_score, Materials;\n",
      "\n",
      "User input: Find walls composed of exactly 3 materials and their overall score?\n",
      "Cypher query: MATCH (w:Wall)<-[:USED_IN]-(m:Material) WITH w, COUNT(m) AS material_count WHERE material_count = 3 MATCH (w)-[:HAS_METRIC]->(metric:Metric {name: 'overall_score'}) WITH w, metric.value AS overall_score, COLLECT(m.name) AS Materials ORDER BY overall_score DESC LIMIT 5 RETURN w.id AS WallID, overall_score, Materials;\n",
      "\n",
      "User input: Find walls without any bio-based materials and their overall score?\n",
      "Cypher query: \n"
     ]
    }
   ],
   "source": [
    "print(prompt.format(question=\"Find walls without any bio-based materials and their overall score?\", schema=schema))"
   ]
  },
  {
   "cell_type": "code",
   "execution_count": null,
   "metadata": {
    "colab": {
     "base_uri": "https://localhost:8080/"
    },
    "id": "nkc2_e6z20R_",
    "outputId": "43f8ed95-d3c9-4ab0-e9b0-1b58e613948f"
   },
   "outputs": [
    {
     "name": "stdout",
     "output_type": "stream",
     "text": [
      "====== START ======\n",
      "\n",
      "\n",
      "\u001b[1m> Entering new GraphCypherQAChain chain...\u001b[0m\n",
      "Generated Cypher:\n",
      "\u001b[32;1m\u001b[1;3mcypher\n",
      "MATCH (w:Wall)<-[:USED_IN]-(m:Material) WHERE NOT m.bio_based \n",
      "MATCH (w)-[:HAS_METRIC]->(metric:Metric {name: 'overall_score'}) \n",
      "WITH w, metric.value AS overall_score, COLLECT(m.name) AS Materials \n",
      "ORDER BY overall_score DESC LIMIT 5 \n",
      "RETURN w.id AS WallID, overall_score, Materials;\n",
      "\u001b[0m\n",
      "Full Context:\n",
      "\u001b[32;1m\u001b[1;3m[{'WallID': 1, 'overall_score': 40.7, 'Materials': ['Cement plaster', 'Cement plaster', 'Glass Wool (unbonded)', 'Gypsum plaster', 'Foam glass', 'Solid burnt clay brick']}, {'WallID': 2, 'overall_score': 40.7, 'Materials': ['Cement plaster', 'Gypsum plaster', 'Solid burnt clay brick', 'Rock wool (unbonded)']}, {'WallID': 3, 'overall_score': 40.7, 'Materials': ['Cement plaster', 'Rock wool (unbonded)', 'Profiled Clay Tile Panel']}, {'WallID': 4, 'overall_score': 40.7, 'Materials': ['Rock wool (unbonded)', 'Rock wool (unbonded)', 'Profiled Clay Tile Panel']}, {'WallID': 5, 'overall_score': 40.7, 'Materials': ['Gypsum plaster', 'Gypsum plaster']}]\u001b[0m\n",
      "\n",
      "\u001b[1m> Finished chain.\u001b[0m\n",
      "Walls 1, 2, 3, 4, and 5 all use Cement plaster as a material. \n",
      "\n",
      "====== END ====== \n",
      "\n",
      "====== START ======\n",
      "\n",
      "\n",
      "\u001b[1m> Entering new GraphCypherQAChain chain...\u001b[0m\n",
      "Generated Cypher:\n",
      "\u001b[32;1m\u001b[1;3mcypher\n",
      "MATCH (w:Wall)<-[:USED_IN]-(m:Material) WHERE m.bio_based = true \n",
      "MATCH (w)-[:HAS_METRIC]->(metric:Metric {name: 'overall_score'})\n",
      "WITH w, metric.value AS overall_score, COLLECT(m.name) AS Materials\n",
      "ORDER BY overall_score DESC\n",
      "LIMIT 5\n",
      "RETURN w.id AS WallID, overall_score, Materials;\n",
      "\u001b[0m\n",
      "Full Context:\n",
      "\u001b[32;1m\u001b[1;3m[{'WallID': 2, 'overall_score': 40.7, 'Materials': ['Timber', 'Timber', 'Soft board']}, {'WallID': 3, 'overall_score': 40.7, 'Materials': ['Timber', 'Plywood', 'Cork slab']}, {'WallID': 4, 'overall_score': 40.7, 'Materials': ['Timber', 'Timber']}, {'WallID': 5, 'overall_score': 40.7, 'Materials': ['Timber', 'Plywood', 'Cork slab', 'Cork slab']}, {'WallID': 6, 'overall_score': 40.7, 'Materials': ['Timber']}]\u001b[0m\n",
      "\n",
      "\u001b[1m> Finished chain.\u001b[0m\n",
      "Walls with ID 2, 3, 4, 5, and 6 all have Timber as a material. \n",
      "\n",
      "====== END ====== \n",
      "\n"
     ]
    }
   ],
   "source": [
    "from langchain_core.prompts import FewShotPromptTemplate, PromptTemplate\n",
    "\n",
    "example_prompt = PromptTemplate.from_template(\n",
    "    \"User input: {question}\\nCypher query: {query}\"\n",
    ")\n",
    "prompt = FewShotPromptTemplate(\n",
    "    examples=examples[:3],\n",
    "    example_prompt=example_prompt,\n",
    "    prefix=\"You are a Neo4j expert. Given an input question, create a syntactically correct Cypher query to run.\\n\\nHere is the schema information\\n{schema}.\\n\\nBelow are a number of examples of questions and their corresponding Cypher queries.\",\n",
    "    suffix=\"User input: {question}\\nCypher query: \",\n",
    "    input_variables=[\"question\", \"schema\"],\n",
    ")\n",
    "\n",
    "chain2 = GraphCypherQAChain.from_llm(graph=graph, llm=llm, cypher_prompt=prompt, verbose=True, allow_dangerous_requests=True)\n",
    "schema=graph.schema # Set allow_dangerous_requests=True\n",
    "\n",
    "questions = [\"Find walls without any bio-based materials and their overall score?\",\n",
    "             \"Find walls that have bio-based materials and their overall score?\"]\n",
    "for q in questions:\n",
    "    print('====== START ======')\n",
    "    # The following line is changed to provide an empty string for the \"query\" key.\n",
    "    # This allows the FewShotPromptTemplate to generate the Cypher query based on the examples.\n",
    "    result = chain2.invoke({\"question\": q, \"schema\": schema, \"query\": \"\"})['result']\n",
    "    print(result)\n",
    "    print('====== END ====== \\n')"
   ]
  },
  {
   "cell_type": "code",
   "execution_count": null,
   "metadata": {
    "colab": {
     "base_uri": "https://localhost:8080/",
     "height": 141
    },
    "id": "5q35x6opwDH5",
    "outputId": "b99a5b3f-9447-4019-bee1-dfe883930ae7"
   },
   "outputs": [
    {
     "ename": "NameError",
     "evalue": "name 'example_selector' is not defined",
     "output_type": "error",
     "traceback": [
      "\u001b[0;31m---------------------------------------------------------------------------\u001b[0m",
      "\u001b[0;31mNameError\u001b[0m                                 Traceback (most recent call last)",
      "\u001b[0;32m<ipython-input-47-e24bfa4818aa>\u001b[0m in \u001b[0;36m<cell line: 1>\u001b[0;34m()\u001b[0m\n\u001b[0;32m----> 1\u001b[0;31m \u001b[0mexample_selector\u001b[0m\u001b[0;34m.\u001b[0m\u001b[0mselect_examples\u001b[0m\u001b[0;34m(\u001b[0m\u001b[0;34m{\u001b[0m\u001b[0;34m\"question\"\u001b[0m\u001b[0;34m:\u001b[0m \u001b[0;34m\"Find walls composed of exactly 3 materials and their overall score?\"\u001b[0m\u001b[0;34m}\u001b[0m\u001b[0;34m)\u001b[0m\u001b[0;34m\u001b[0m\u001b[0;34m\u001b[0m\u001b[0m\n\u001b[0m",
      "\u001b[0;31mNameError\u001b[0m: name 'example_selector' is not defined"
     ]
    }
   ],
   "source": [
    "example_selector.select_examples({\"question\": \"Find walls composed of exactly 3 materials and their overall score?\"})"
   ]
  },
  {
   "cell_type": "code",
   "execution_count": null,
   "metadata": {
    "colab": {
     "base_uri": "https://localhost:8080/",
     "height": 228
    },
    "id": "dKO4yOrzv84G",
    "outputId": "8b979f66-f9ad-4596-f00a-f8c8fad391e0"
   },
   "outputs": [
    {
     "ename": "NameError",
     "evalue": "name 'example_selector' is not defined",
     "output_type": "error",
     "traceback": [
      "\u001b[0;31m---------------------------------------------------------------------------\u001b[0m",
      "\u001b[0;31mNameError\u001b[0m                                 Traceback (most recent call last)",
      "\u001b[0;32m<ipython-input-48-a3bb88fd9c1b>\u001b[0m in \u001b[0;36m<cell line: 1>\u001b[0;34m()\u001b[0m\n\u001b[1;32m      1\u001b[0m dynamic_prompt = FewShotPromptTemplate(\n\u001b[0;32m----> 2\u001b[0;31m     \u001b[0mexample_selector\u001b[0m\u001b[0;34m=\u001b[0m\u001b[0mexample_selector\u001b[0m\u001b[0;34m,\u001b[0m \u001b[0;31m#previous: examples = examples[:3]\u001b[0m\u001b[0;34m\u001b[0m\u001b[0;34m\u001b[0m\u001b[0m\n\u001b[0m\u001b[1;32m      3\u001b[0m     \u001b[0mexample_prompt\u001b[0m\u001b[0;34m=\u001b[0m\u001b[0mexample_prompt\u001b[0m\u001b[0;34m,\u001b[0m\u001b[0;34m\u001b[0m\u001b[0;34m\u001b[0m\u001b[0m\n\u001b[1;32m      4\u001b[0m     \u001b[0mprefix\u001b[0m\u001b[0;34m=\u001b[0m\u001b[0;34m\"You are a Neo4j expert. Given an input question, create a syntactically correct Cypher query to run.\\n\\nHere is the schema information\\n{schema}.\\n\\nBelow are a number of examples of questions and their corresponding Cypher queries.\"\u001b[0m\u001b[0;34m,\u001b[0m\u001b[0;34m\u001b[0m\u001b[0;34m\u001b[0m\u001b[0m\n\u001b[1;32m      5\u001b[0m     \u001b[0msuffix\u001b[0m\u001b[0;34m=\u001b[0m\u001b[0;34m\"User input: {question}\\nCypher query: \"\u001b[0m\u001b[0;34m,\u001b[0m\u001b[0;34m\u001b[0m\u001b[0;34m\u001b[0m\u001b[0m\n",
      "\u001b[0;31mNameError\u001b[0m: name 'example_selector' is not defined"
     ]
    }
   ],
   "source": [
    "dynamic_prompt = FewShotPromptTemplate(\n",
    "    example_selector=example_selector, #previous: examples = examples[:3]\n",
    "    example_prompt=example_prompt,\n",
    "    prefix=\"You are a Neo4j expert. Given an input question, create a syntactically correct Cypher query to run.\\n\\nHere is the schema information\\n{schema}.\\n\\nBelow are a number of examples of questions and their corresponding Cypher queries.\",\n",
    "    suffix=\"User input: {question}\\nCypher query: \",\n",
    "    input_variables=[\"question\", \"schema\"],\n",
    ")"
   ]
  },
  {
   "cell_type": "code",
   "execution_count": null,
   "metadata": {
    "colab": {
     "background_save": true,
     "base_uri": "https://localhost:8080/"
    },
    "id": "lBGrid6YF4L5",
    "outputId": "02422950-d38d-43b7-f9c5-85935cede1f6"
   },
   "outputs": [
    {
     "name": "stdout",
     "output_type": "stream",
     "text": [
      "Enter your question below (type 'exit' to quit):\n",
      "\n",
      "\n",
      "\u001b[1m> Entering new GraphCypherQAChain chain...\u001b[0m\n",
      "Generated Cypher:\n",
      "\u001b[32;1m\u001b[1;3mcypher\n",
      "MATCH (w:Wall)<-[:USED_IN]-(m:Material)\n",
      "WITH w, MIN(m.embodied_carbon_coefficient) AS min_embodied_carbon\n",
      "RETURN w.id AS WallID, min_embodied_carbon\n",
      "ORDER BY min_embodied_carbon ASC\n",
      "LIMIT 1\n",
      "\u001b[0m\n",
      "Full Context:\n",
      "\u001b[32;1m\u001b[1;3m[{'WallID': 1, 'min_embodied_carbon': 0.012}]\u001b[0m\n",
      "\n",
      "\u001b[1m> Finished chain.\u001b[0m\n",
      "====== Response ======\n",
      "The minimum embodied carbon is 0.012.  \n",
      "\n",
      "======================\n",
      "\n",
      "\n",
      "\n",
      "\u001b[1m> Entering new GraphCypherQAChain chain...\u001b[0m\n",
      "Generated Cypher:\n",
      "\u001b[32;1m\u001b[1;3mcypher\n",
      "MATCH (w:Wall)<-[:USED_IN]-(m:Material)\n",
      "WITH w, AVG(m.recyclability) AS average_recyclability\n",
      "ORDER BY average_recyclability ASC\n",
      "LIMIT 1\n",
      "RETURN w.id AS WallID, average_recyclability\n",
      "\u001b[0m\n",
      "Full Context:\n",
      "\u001b[32;1m\u001b[1;3m[{'WallID': 590, 'average_recyclability': 2.0}]\u001b[0m\n",
      "\n",
      "\u001b[1m> Finished chain.\u001b[0m\n",
      "====== Response ======\n",
      "The average recyclability is 2.0.  \n",
      "\n",
      "======================\n",
      "\n",
      "\n",
      "\n",
      "\u001b[1m> Entering new GraphCypherQAChain chain...\u001b[0m\n",
      "Generated Cypher:\n",
      "\u001b[32;1m\u001b[1;3mcypher\n",
      "MATCH (w:Wall)<-[:USED_IN]-(m:Material)\n",
      "WITH w, sum(m.embodied_carbon_coefficient) AS total_embodied_carbon\n",
      "ORDER BY total_embodied_carbon ASC\n",
      "LIMIT 5\n",
      "RETURN w.id AS WallID, total_embodied_carbon\n",
      "\u001b[0m\n",
      "Full Context:\n",
      "\u001b[32;1m\u001b[1;3m[{'WallID': 720, 'total_embodied_carbon': 0.8780000000000001}, {'WallID': 355, 'total_embodied_carbon': 1.1090000000000002}, {'WallID': 1134, 'total_embodied_carbon': 1.249}, {'WallID': 1182, 'total_embodied_carbon': 1.6}, {'WallID': 1464, 'total_embodied_carbon': 1.7710000000000004}]\u001b[0m\n",
      "\n",
      "\u001b[1m> Finished chain.\u001b[0m\n",
      "====== Response ======\n",
      "WallID 720 has a total embodied carbon of 0.878, WallID 355 has a total embodied carbon of 1.109, WallID 1134 has a total embodied carbon of 1.249, WallID 1182 has a total embodied carbon of 1.6, and WallID 1464 has a total embodied carbon of 1.771.  \n",
      "\n",
      "======================\n",
      "\n"
     ]
    }
   ],
   "source": [
    "# Interactive loop\n",
    "print(\"Enter your question below (type 'exit' to quit):\")\n",
    "\n",
    "while True:\n",
    "    # Get user input\n",
    "    user_input = input(\"> \")\n",
    "\n",
    "    # Check for exit condition\n",
    "    if user_input.lower() in [\"exit\", \"quit\"]:\n",
    "        print(\"Exiting... Goodbye!\")\n",
    "        break\n",
    "\n",
    "    try:\n",
    "        # Invoke the chain to generate and execute the Cypher query\n",
    "        result = chain2.invoke({\"question\": user_input, \"schema\": schema, \"query\": \"\"})[\"result\"]\n",
    "\n",
    "        # Print the result\n",
    "        print(\"====== Response ======\")\n",
    "        print(result)\n",
    "        print(\"======================\\n\")\n",
    "\n",
    "    except Exception as e:\n",
    "        # Handle any errors gracefully\n",
    "        print(f\"An error occurred: {e}\")\n",
    "        continue"
   ]
  },
  {
   "cell_type": "markdown",
   "metadata": {
    "id": "qrjq60LVJJhH"
   },
   "source": [
    "# THIS IS FOR POC"
   ]
  },
  {
   "cell_type": "code",
   "execution_count": null,
   "metadata": {
    "colab": {
     "base_uri": "https://localhost:8080/",
     "height": 463
    },
    "id": "oWpwf8k4Hgq8",
    "outputId": "c2b595c3-82e8-427d-ee39-dfcdfaff5be7"
   },
   "outputs": [
    {
     "name": "stdout",
     "output_type": "stream",
     "text": []
    },
    {
     "name": "stderr",
     "output_type": "stream",
     "text": [
      "ERROR:pyngrok.process.ngrok:t=2024-12-19T08:54:30+0000 lvl=eror msg=\"failed to reconnect session\" obj=tunnels.session err=\"authentication failed: Usage of ngrok requires a verified account and authtoken.\\n\\nSign up for an account: https://dashboard.ngrok.com/signup\\nInstall your authtoken: https://dashboard.ngrok.com/get-started/your-authtoken\\r\\n\\r\\nERR_NGROK_4018\\r\\n\"\n",
      "ERROR:pyngrok.process.ngrok:t=2024-12-19T08:54:30+0000 lvl=eror msg=\"session closing\" obj=tunnels.session err=\"authentication failed: Usage of ngrok requires a verified account and authtoken.\\n\\nSign up for an account: https://dashboard.ngrok.com/signup\\nInstall your authtoken: https://dashboard.ngrok.com/get-started/your-authtoken\\r\\n\\r\\nERR_NGROK_4018\\r\\n\"\n",
      "ERROR:pyngrok.process.ngrok:t=2024-12-19T08:54:30+0000 lvl=eror msg=\"terminating with error\" obj=app err=\"authentication failed: Usage of ngrok requires a verified account and authtoken.\\n\\nSign up for an account: https://dashboard.ngrok.com/signup\\nInstall your authtoken: https://dashboard.ngrok.com/get-started/your-authtoken\\r\\n\\r\\nERR_NGROK_4018\\r\\n\"\n",
      "CRITICAL:pyngrok.process.ngrok:t=2024-12-19T08:54:30+0000 lvl=crit msg=\"command failed\" err=\"authentication failed: Usage of ngrok requires a verified account and authtoken.\\n\\nSign up for an account: https://dashboard.ngrok.com/signup\\nInstall your authtoken: https://dashboard.ngrok.com/get-started/your-authtoken\\r\\n\\r\\nERR_NGROK_4018\\r\\n\"\n"
     ]
    },
    {
     "ename": "PyngrokNgrokError",
     "evalue": "The ngrok process errored on start: authentication failed: Usage of ngrok requires a verified account and authtoken.\\n\\nSign up for an account: https://dashboard.ngrok.com/signup\\nInstall your authtoken: https://dashboard.ngrok.com/get-started/your-authtoken\\r\\n\\r\\nERR_NGROK_4018\\r\\n.",
     "output_type": "error",
     "traceback": [
      "\u001b[0;31m---------------------------------------------------------------------------\u001b[0m",
      "\u001b[0;31mPyngrokNgrokError\u001b[0m                         Traceback (most recent call last)",
      "\u001b[0;32m<ipython-input-85-de01e6dcc6c6>\u001b[0m in \u001b[0;36m<cell line: 5>\u001b[0;34m()\u001b[0m\n\u001b[1;32m      3\u001b[0m \u001b[0;34m\u001b[0m\u001b[0m\n\u001b[1;32m      4\u001b[0m \u001b[0;31m# Start ngrok tunnel for Streamlit\u001b[0m\u001b[0;34m\u001b[0m\u001b[0;34m\u001b[0m\u001b[0m\n\u001b[0;32m----> 5\u001b[0;31m \u001b[0mpublic_url\u001b[0m \u001b[0;34m=\u001b[0m \u001b[0mngrok\u001b[0m\u001b[0;34m.\u001b[0m\u001b[0mconnect\u001b[0m\u001b[0;34m(\u001b[0m\u001b[0;36m8501\u001b[0m\u001b[0;34m)\u001b[0m\u001b[0;34m\u001b[0m\u001b[0;34m\u001b[0m\u001b[0m\n\u001b[0m\u001b[1;32m      6\u001b[0m \u001b[0mprint\u001b[0m\u001b[0;34m(\u001b[0m\u001b[0;34mf\"Streamlit app is live at {public_url}\"\u001b[0m\u001b[0;34m)\u001b[0m\u001b[0;34m\u001b[0m\u001b[0;34m\u001b[0m\u001b[0m\n\u001b[1;32m      7\u001b[0m \u001b[0;34m\u001b[0m\u001b[0m\n",
      "\u001b[0;32m/usr/local/lib/python3.10/dist-packages/pyngrok/ngrok.py\u001b[0m in \u001b[0;36mconnect\u001b[0;34m(addr, proto, name, pyngrok_config, **options)\u001b[0m\n\u001b[1;32m    329\u001b[0m     \u001b[0mlogger\u001b[0m\u001b[0;34m.\u001b[0m\u001b[0minfo\u001b[0m\u001b[0;34m(\u001b[0m\u001b[0;34mf\"Opening tunnel named: {name}\"\u001b[0m\u001b[0;34m)\u001b[0m\u001b[0;34m\u001b[0m\u001b[0;34m\u001b[0m\u001b[0m\n\u001b[1;32m    330\u001b[0m \u001b[0;34m\u001b[0m\u001b[0m\n\u001b[0;32m--> 331\u001b[0;31m     \u001b[0mapi_url\u001b[0m \u001b[0;34m=\u001b[0m \u001b[0mget_ngrok_process\u001b[0m\u001b[0;34m(\u001b[0m\u001b[0mpyngrok_config\u001b[0m\u001b[0;34m)\u001b[0m\u001b[0;34m.\u001b[0m\u001b[0mapi_url\u001b[0m\u001b[0;34m\u001b[0m\u001b[0;34m\u001b[0m\u001b[0m\n\u001b[0m\u001b[1;32m    332\u001b[0m \u001b[0;34m\u001b[0m\u001b[0m\n\u001b[1;32m    333\u001b[0m     \u001b[0mlogger\u001b[0m\u001b[0;34m.\u001b[0m\u001b[0mdebug\u001b[0m\u001b[0;34m(\u001b[0m\u001b[0;34mf\"Creating tunnel with options: {options}\"\u001b[0m\u001b[0;34m)\u001b[0m\u001b[0;34m\u001b[0m\u001b[0;34m\u001b[0m\u001b[0m\n",
      "\u001b[0;32m/usr/local/lib/python3.10/dist-packages/pyngrok/ngrok.py\u001b[0m in \u001b[0;36mget_ngrok_process\u001b[0;34m(pyngrok_config)\u001b[0m\n\u001b[1;32m    154\u001b[0m     \u001b[0minstall_ngrok\u001b[0m\u001b[0;34m(\u001b[0m\u001b[0mpyngrok_config\u001b[0m\u001b[0;34m)\u001b[0m\u001b[0;34m\u001b[0m\u001b[0;34m\u001b[0m\u001b[0m\n\u001b[1;32m    155\u001b[0m \u001b[0;34m\u001b[0m\u001b[0m\n\u001b[0;32m--> 156\u001b[0;31m     \u001b[0;32mreturn\u001b[0m \u001b[0mprocess\u001b[0m\u001b[0;34m.\u001b[0m\u001b[0mget_process\u001b[0m\u001b[0;34m(\u001b[0m\u001b[0mpyngrok_config\u001b[0m\u001b[0;34m)\u001b[0m\u001b[0;34m\u001b[0m\u001b[0;34m\u001b[0m\u001b[0m\n\u001b[0m\u001b[1;32m    157\u001b[0m \u001b[0;34m\u001b[0m\u001b[0m\n\u001b[1;32m    158\u001b[0m \u001b[0;34m\u001b[0m\u001b[0m\n",
      "\u001b[0;32m/usr/local/lib/python3.10/dist-packages/pyngrok/process.py\u001b[0m in \u001b[0;36mget_process\u001b[0;34m(pyngrok_config)\u001b[0m\n\u001b[1;32m    233\u001b[0m         \u001b[0;32mreturn\u001b[0m \u001b[0m_current_processes\u001b[0m\u001b[0;34m[\u001b[0m\u001b[0mpyngrok_config\u001b[0m\u001b[0;34m.\u001b[0m\u001b[0mngrok_path\u001b[0m\u001b[0;34m]\u001b[0m\u001b[0;34m\u001b[0m\u001b[0;34m\u001b[0m\u001b[0m\n\u001b[1;32m    234\u001b[0m \u001b[0;34m\u001b[0m\u001b[0m\n\u001b[0;32m--> 235\u001b[0;31m     \u001b[0;32mreturn\u001b[0m \u001b[0m_start_process\u001b[0m\u001b[0;34m(\u001b[0m\u001b[0mpyngrok_config\u001b[0m\u001b[0;34m)\u001b[0m\u001b[0;34m\u001b[0m\u001b[0;34m\u001b[0m\u001b[0m\n\u001b[0m\u001b[1;32m    236\u001b[0m \u001b[0;34m\u001b[0m\u001b[0m\n\u001b[1;32m    237\u001b[0m \u001b[0;34m\u001b[0m\u001b[0m\n",
      "\u001b[0;32m/usr/local/lib/python3.10/dist-packages/pyngrok/process.py\u001b[0m in \u001b[0;36m_start_process\u001b[0;34m(pyngrok_config)\u001b[0m\n\u001b[1;32m    396\u001b[0m \u001b[0;34m\u001b[0m\u001b[0m\n\u001b[1;32m    397\u001b[0m         \u001b[0;32mif\u001b[0m \u001b[0mngrok_process\u001b[0m\u001b[0;34m.\u001b[0m\u001b[0mstartup_error\u001b[0m \u001b[0;32mis\u001b[0m \u001b[0;32mnot\u001b[0m \u001b[0;32mNone\u001b[0m\u001b[0;34m:\u001b[0m\u001b[0;34m\u001b[0m\u001b[0;34m\u001b[0m\u001b[0m\n\u001b[0;32m--> 398\u001b[0;31m             raise PyngrokNgrokError(f\"The ngrok process errored on start: {ngrok_process.startup_error}.\",\n\u001b[0m\u001b[1;32m    399\u001b[0m                                     \u001b[0mngrok_process\u001b[0m\u001b[0;34m.\u001b[0m\u001b[0mlogs\u001b[0m\u001b[0;34m,\u001b[0m\u001b[0;34m\u001b[0m\u001b[0;34m\u001b[0m\u001b[0m\n\u001b[1;32m    400\u001b[0m                                     ngrok_process.startup_error)\n",
      "\u001b[0;31mPyngrokNgrokError\u001b[0m: The ngrok process errored on start: authentication failed: Usage of ngrok requires a verified account and authtoken.\\n\\nSign up for an account: https://dashboard.ngrok.com/signup\\nInstall your authtoken: https://dashboard.ngrok.com/get-started/your-authtoken\\r\\n\\r\\nERR_NGROK_4018\\r\\n."
     ]
    }
   ],
   "source": [
    "import streamlit as st\n",
    "from pyngrok import ngrok\n",
    "\n",
    "# Start ngrok tunnel for Streamlit\n",
    "public_url = ngrok.connect(8501)\n",
    "print(f\"Streamlit app is live at {public_url}\")\n",
    "\n",
    "# Streamlit UI\n",
    "st.title(\"Neo4j Cypher Query Generator\")\n",
    "st.write(\"Enter your natural language question about the database, and the app will generate and execute a Cypher query.\")\n",
    "\n",
    "# Input section\n",
    "user_input = st.text_input(\"Your Question:\", placeholder=\"E.g., Find walls without any bio-based materials and their overall score?\")\n",
    "\n",
    "# Button to submit the query\n",
    "if st.button(\"Generate and Execute Query\"):\n",
    "    if user_input:\n",
    "        try:\n",
    "            # Invoke the chain to generate and execute the Cypher query\n",
    "            result = chain2.invoke({\"question\": user_input, \"schema\": schema, \"query\": \"\"})[\"result\"]\n",
    "\n",
    "            # Display the result\n",
    "            st.success(\"Query executed successfully!\")\n",
    "            st.write(\"====== Response ======\")\n",
    "            st.write(result)\n",
    "            st.write(\"======================\")\n",
    "        except Exception as e:\n",
    "            # Display any errors\n",
    "            st.error(f\"An error occurred: {e}\")\n",
    "    else:\n",
    "        st.warning(\"Please enter a question before submitting.\")\n",
    "\n",
    "# Footer\n",
    "st.markdown(\"---\")\n",
    "st.markdown(\"**Disclaimer:** This is a proof-of-concept application for generating Cypher queries using Neo4j and an LLM.\")"
   ]
  }
 ],
 "metadata": {
  "colab": {
   "provenance": []
  },
  "kernelspec": {
   "display_name": "Python 3",
   "name": "python3"
  },
  "language_info": {
   "name": "python"
  }
 },
 "nbformat": 4,
 "nbformat_minor": 0
}
